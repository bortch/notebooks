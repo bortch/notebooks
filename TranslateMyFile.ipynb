{
  "nbformat": 4,
  "nbformat_minor": 0,
  "metadata": {
    "colab": {
      "provenance": [],
      "include_colab_link": true
    },
    "kernelspec": {
      "display_name": "Python 3",
      "name": "python3"
    }
  },
  "cells": [
    {
      "cell_type": "markdown",
      "metadata": {
        "id": "view-in-github",
        "colab_type": "text"
      },
      "source": [
        "<a href=\"https://colab.research.google.com/github/bortch/notebooks/blob/main/TranslateMyFile.ipynb\" target=\"_parent\"><img src=\"https://colab.research.google.com/assets/colab-badge.svg\" alt=\"Open In Colab\"/></a>"
      ]
    },
    {
      "cell_type": "code",
      "metadata": {
        "id": "XMQuuun2R06J"
      },
      "source": [
        "%%capture\n",
        "!pip install git+https://github.com/neuml/txtai#egg=txtai[pipeline]"
      ],
      "execution_count": 1,
      "outputs": []
    },
    {
      "cell_type": "code",
      "source": [
        "%%capture\n",
        "!pip install sacremoses"
      ],
      "metadata": {
        "id": "H_tl7A28elN3"
      },
      "execution_count": 2,
      "outputs": []
    },
    {
      "cell_type": "code",
      "source": [
        "import io\n",
        "import os\n",
        "from google.colab import files"
      ],
      "metadata": {
        "id": "8inVGCVMjNB7"
      },
      "execution_count": 3,
      "outputs": []
    },
    {
      "cell_type": "code",
      "metadata": {
        "id": "nTDwXOUeTH2-"
      },
      "source": [
        "%%capture\n",
        "\n",
        "from txtai.pipeline import Translation\n",
        "\n",
        "# Create translation model\n",
        "translate = Translation()"
      ],
      "execution_count": 4,
      "outputs": []
    },
    {
      "cell_type": "code",
      "source": [
        "# upload file\n",
        "uploaded_files = files.upload()"
      ],
      "metadata": {
        "id": "C5Wpqs9Zi-aF"
      },
      "execution_count": null,
      "outputs": []
    },
    {
      "cell_type": "code",
      "source": [
        "# parse file\n",
        "filenames = []\n",
        "for key in uploaded_files:\n",
        "  filenames.append(key)"
      ],
      "metadata": {
        "id": "Gg-Hnxkujg0s"
      },
      "execution_count": 6,
      "outputs": []
    },
    {
      "cell_type": "code",
      "source": [
        "translate = Translation(\"Helsinki-NLP/opus-mt-nl-fr\", findmodels=False)"
      ],
      "metadata": {
        "id": "REb0X2Kz60Ew"
      },
      "execution_count": 7,
      "outputs": []
    },
    {
      "cell_type": "code",
      "source": [
        "# load file\n",
        "with open('t_%s' % filenames[0], \"w\") as fp:\n",
        "  processed_lines = []\n",
        "  with open(filenames[0],'r') as f:\n",
        "    # split file into lines\n",
        "    text = f.read()\n",
        "    lines = text.split('\\n')\n",
        "    for line in lines:\n",
        "      processed_line = ''\n",
        "      content = ''\n",
        "      # if line is not empty\n",
        "      if len(line.strip()) > 0:\n",
        "        # heading case\n",
        "        heading_level = line.count('#')\n",
        "        if heading_level>0:\n",
        "            # Adjust the heading level as needed\n",
        "            heading_level = min(heading_level, 6)\n",
        "            processed_line = '#' * heading_level + ' '\n",
        "            content = line.replace('#', '').strip()\n",
        "        # bullet list\n",
        "        elif line.lstrip().startswith('-'):\n",
        "          # sub list\n",
        "          list_level = line.count('  ') // 2\n",
        "          if list_level > 0:\n",
        "            # Adjust the list level as needed\n",
        "            list_level = min(list_level, 4)\n",
        "            # Add the list item\n",
        "            processed_line = '  ' * list_level + '- '\n",
        "            content = line.strip().replace('- ', '')\n",
        "          else:\n",
        "            content = line.strip()\n",
        "        # regular paragraph\n",
        "        else:\n",
        "          content = line.strip()\n",
        "        # translate content\n",
        "        content = translate(content,'fr','nl')\n",
        "      # rebuild line\n",
        "      processed_line += content+'\\n'\n",
        "      processed_lines.append(processed_line)\n",
        "  # write to file    \n",
        "  fp.writelines(processed_lines)\n",
        "print('done')"
      ],
      "metadata": {
        "id": "tU8gO0_NVp-U"
      },
      "execution_count": null,
      "outputs": []
    }
  ]
}