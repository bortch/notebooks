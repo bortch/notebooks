{
  "cells": [
    {
      "cell_type": "markdown",
      "metadata": {
        "id": "view-in-github",
        "colab_type": "text"
      },
      "source": [
        "<a href=\"https://colab.research.google.com/github/bortch/notebooks/blob/main/OCRizeMyPDF.ipynb\" target=\"_parent\"><img src=\"https://colab.research.google.com/assets/colab-badge.svg\" alt=\"Open In Colab\"/></a>"
      ]
    },
    {
      "cell_type": "code",
      "source": [
        "!sudo apt install tesseract-ocr ocrmypdf tesseract-ocr-fra tesseract-ocr-nld\n",
        "!pip install PyPDF2 Pillow pytesseract googletrans==4.0.0-rc1\n",
        "!pip install pymupdf ocrmypdf"
      ],
      "metadata": {
        "id": "Vjax9nqcsr1j"
      },
      "execution_count": null,
      "outputs": []
    },
    {
      "cell_type": "code",
      "source": [
        "import io\n",
        "import os\n",
        "from google.colab import files\n",
        "import fitz\n",
        "import ocrmypdf"
      ],
      "metadata": {
        "id": "pqR8sGihst2M"
      },
      "execution_count": 75,
      "outputs": []
    },
    {
      "cell_type": "code",
      "source": [
        "def ocr_the_page(page):\n",
        "    \"\"\"Extract the text from passed-in PDF page.\"\"\"\n",
        "    src = page.parent  # the page's document\n",
        "    doc = fitz.open()  # make temporary 1-pager\n",
        "    doc.insert_pdf(src, from_page=page.number, to_page=page.number)\n",
        "    pdfbytes = doc.tobytes()\n",
        "    inbytes = io.BytesIO(pdfbytes)  # transform to BytesIO object\n",
        "    outbytes = io.BytesIO()  # let ocrmypdf store its result pdf here\n",
        "    ocrmypdf.ocr(\n",
        "        inbytes,  # input 1-pager\n",
        "        outbytes,  # ouput 1-pager\n",
        "        language=\"fra\",  # modify as required e.g. (\"eng\", \"ger\",\"fra\",\"nl\")\n",
        "        output_type=\"pdf\",  # only need simple PDF format\n",
        "        # add more paramneters, e.g. to enforce OCR-ing, etc., e.g.\n",
        "        # force_ocr=True, redo_ocr=True\n",
        "    )\n",
        "    ocr_pdf = fitz.open(\"pdf\", outbytes.getvalue())  # read output as fitz PDF\n",
        "    text = ocr_pdf[0].get_text()  # ...and extract text from the page\n",
        "    return text  # return it"
      ],
      "metadata": {
        "id": "GUag0JmJztEa"
      },
      "execution_count": 84,
      "outputs": []
    },
    {
      "cell_type": "code",
      "source": [
        "pdf_file = files.upload()"
      ],
      "metadata": {
        "id": "VPve2EbFvBoZ"
      },
      "execution_count": null,
      "outputs": []
    },
    {
      "cell_type": "code",
      "source": [
        "filename = \"my_uploaded_file.pdf\" # change filename here\n",
        "doc = fitz.open(filename)\n",
        "print(doc.is_pdf)"
      ],
      "metadata": {
        "id": "Wpc1eOWWxYKF"
      },
      "execution_count": null,
      "outputs": []
    },
    {
      "cell_type": "code",
      "source": [
        "# output file\n",
        "with open('out_%s.md' % filename, \"w\") as fp:\n",
        "  textBuffer = \"\"\n",
        "  for page in doc:\n",
        "    fp.writelines('## %s\\n' % page.number)\n",
        "    textBuffer += ocr_the_page(page)\n",
        "  fp.write(textBuffer)"
      ],
      "metadata": {
        "id": "mE03Gi3Tz2M9"
      },
      "execution_count": null,
      "outputs": []
    },
    {
      "cell_type": "code",
      "source": [
        "# clean directory\n",
        "out_path = 'output/'\n",
        "if os.path.exists(out_path):\n",
        "  for file_name in os.listdir(out_path):\n",
        "    file = out_path + file_name\n",
        "    if os.path.isfile(file):\n",
        "        print('Deleting file:', file)\n",
        "        os.remove(file)"
      ],
      "metadata": {
        "id": "vwzJHk8LZTFo"
      },
      "execution_count": null,
      "outputs": []
    },
    {
      "cell_type": "code",
      "source": [
        "# check if language is installed\n",
        "# !apt-cache search tesseract-ocr"
      ],
      "metadata": {
        "id": "USRszDIb3SB0"
      },
      "execution_count": null,
      "outputs": []
    }
  ],
  "metadata": {
    "colab": {
      "name": "Bienvenue dans Colaboratory",
      "provenance": [],
      "include_colab_link": true
    },
    "kernelspec": {
      "display_name": "Python 3",
      "name": "python3"
    }
  },
  "nbformat": 4,
  "nbformat_minor": 0
}